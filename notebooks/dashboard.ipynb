{
 "cells": [
  {
   "cell_type": "code",
   "execution_count": 1,
   "metadata": {
    "collapsed": true
   },
   "outputs": [],
   "source": [
    "import math\n",
    "import pandas as pd"
   ]
  },
  {
   "cell_type": "code",
   "execution_count": 2,
   "outputs": [],
   "source": [
    "df = pd.read_csv(\"../data/babyNamesUSYOB-full.csv\")"
   ],
   "metadata": {
    "collapsed": false,
    "pycharm": {
     "name": "#%%\n"
    }
   }
  },
  {
   "cell_type": "code",
   "execution_count": 3,
   "outputs": [],
   "source": [
    "grouped_by_sex = df.groupby([\"YearOfBirth\", \"Sex\"])[\"Number\"].sum().reset_index()"
   ],
   "metadata": {
    "collapsed": false,
    "pycharm": {
     "name": "#%%\n"
    }
   }
  },
  {
   "cell_type": "code",
   "execution_count": 4,
   "outputs": [],
   "source": [
    "def add_both(x):\n",
    "    last_row = x.iloc[-1].copy()\n",
    "    last_row[\"Sex\"] = \"Both\"\n",
    "    last_row[\"Number\"] = int(x[x[\"Sex\"] == \"M\"][\"Number\"]) + int(x[x[\"Sex\"] == \"F\"][\"Number\"])\n",
    "    return x.append(last_row)\n",
    "total_births = grouped_by_sex.groupby(\"YearOfBirth\").apply(add_both).reset_index(drop=True)"
   ],
   "metadata": {
    "collapsed": false,
    "pycharm": {
     "name": "#%%\n"
    }
   }
  },
  {
   "cell_type": "code",
   "execution_count": 5,
   "outputs": [],
   "source": [
    "total_births.to_csv(\"../data/total_births.csv\", index=False)"
   ],
   "metadata": {
    "collapsed": false,
    "pycharm": {
     "name": "#%%\n"
    }
   }
  },
  {
   "cell_type": "code",
   "execution_count": 6,
   "outputs": [],
   "source": [
    "unique_names = df.groupby([\"YearOfBirth\", \"Sex\"])[\"Name\"].count().reset_index()"
   ],
   "metadata": {
    "collapsed": false,
    "pycharm": {
     "name": "#%%\n"
    }
   }
  },
  {
   "cell_type": "code",
   "execution_count": 7,
   "outputs": [],
   "source": [
    "unique_names_both = df.drop([\"Sex\", \"Number\"], axis=1).drop_duplicates().groupby(\"YearOfBirth\")[\"Name\"].count().reset_index()"
   ],
   "metadata": {
    "collapsed": false,
    "pycharm": {
     "name": "#%%\n"
    }
   }
  },
  {
   "cell_type": "code",
   "execution_count": 8,
   "outputs": [],
   "source": [
    "def add_both_unique(x):\n",
    "    last_row = x.iloc[-1].copy()\n",
    "    last_row[\"Sex\"] = \"Both\"\n",
    "    last_row[\"Name\"] = int(unique_names_both[unique_names_both[\"YearOfBirth\"] == last_row[\"YearOfBirth\"]][\"Name\"])\n",
    "    return x.append(last_row)\n",
    "unique_names = unique_names.groupby(\"YearOfBirth\").apply(add_both_unique).reset_index(drop=True)"
   ],
   "metadata": {
    "collapsed": false,
    "pycharm": {
     "name": "#%%\n"
    }
   }
  },
  {
   "cell_type": "code",
   "execution_count": 9,
   "outputs": [],
   "source": [
    "unique_names = unique_names.rename(columns={\"Name\":\"Count\"})"
   ],
   "metadata": {
    "collapsed": false,
    "pycharm": {
     "name": "#%%\n"
    }
   }
  },
  {
   "cell_type": "code",
   "execution_count": 10,
   "outputs": [],
   "source": [
    "unique_names.to_csv(\"../data/unique_names.csv\", index=False)"
   ],
   "metadata": {
    "collapsed": false,
    "pycharm": {
     "name": "#%%\n"
    }
   }
  },
  {
   "cell_type": "code",
   "execution_count": 11,
   "outputs": [],
   "source": [
    "def add_prop(group):\n",
    "    group[\"Proportion\"] = group.Number / group.Number.sum()\n",
    "    return group\n",
    "\n",
    "name_records = df.groupby([\"YearOfBirth\",\"Sex\"]).apply(add_prop)"
   ],
   "metadata": {
    "collapsed": false,
    "pycharm": {
     "name": "#%%\n"
    }
   }
  },
  {
   "cell_type": "code",
   "execution_count": 12,
   "outputs": [],
   "source": [
    "name_records[\"NameLength\"] = name_records[\"Name\"].apply(lambda x: len(x))"
   ],
   "metadata": {
    "collapsed": false,
    "pycharm": {
     "name": "#%%\n"
    }
   }
  },
  {
   "cell_type": "code",
   "execution_count": 13,
   "outputs": [
    {
     "data": {
      "text/plain": "   YearOfBirth       Name Sex  Number  Proportion  NameLength  Decade\n0         1880       Mary   F    7065    0.077644           4    1880\n1         1880       Anna   F    2604    0.028618           4    1880\n2         1880       Emma   F    2003    0.022013           4    1880\n3         1880  Elizabeth   F    1939    0.021310           9    1880\n4         1880     Minnie   F    1746    0.019189           6    1880",
      "text/html": "<div>\n<style scoped>\n    .dataframe tbody tr th:only-of-type {\n        vertical-align: middle;\n    }\n\n    .dataframe tbody tr th {\n        vertical-align: top;\n    }\n\n    .dataframe thead th {\n        text-align: right;\n    }\n</style>\n<table border=\"1\" class=\"dataframe\">\n  <thead>\n    <tr style=\"text-align: right;\">\n      <th></th>\n      <th>YearOfBirth</th>\n      <th>Name</th>\n      <th>Sex</th>\n      <th>Number</th>\n      <th>Proportion</th>\n      <th>NameLength</th>\n      <th>Decade</th>\n    </tr>\n  </thead>\n  <tbody>\n    <tr>\n      <th>0</th>\n      <td>1880</td>\n      <td>Mary</td>\n      <td>F</td>\n      <td>7065</td>\n      <td>0.077644</td>\n      <td>4</td>\n      <td>1880</td>\n    </tr>\n    <tr>\n      <th>1</th>\n      <td>1880</td>\n      <td>Anna</td>\n      <td>F</td>\n      <td>2604</td>\n      <td>0.028618</td>\n      <td>4</td>\n      <td>1880</td>\n    </tr>\n    <tr>\n      <th>2</th>\n      <td>1880</td>\n      <td>Emma</td>\n      <td>F</td>\n      <td>2003</td>\n      <td>0.022013</td>\n      <td>4</td>\n      <td>1880</td>\n    </tr>\n    <tr>\n      <th>3</th>\n      <td>1880</td>\n      <td>Elizabeth</td>\n      <td>F</td>\n      <td>1939</td>\n      <td>0.021310</td>\n      <td>9</td>\n      <td>1880</td>\n    </tr>\n    <tr>\n      <th>4</th>\n      <td>1880</td>\n      <td>Minnie</td>\n      <td>F</td>\n      <td>1746</td>\n      <td>0.019189</td>\n      <td>6</td>\n      <td>1880</td>\n    </tr>\n  </tbody>\n</table>\n</div>"
     },
     "execution_count": 13,
     "metadata": {},
     "output_type": "execute_result"
    }
   ],
   "source": [
    "name_records[\"Decade\"] = name_records[\"YearOfBirth\"].apply(lambda x: math.floor(x/10)*10)\n",
    "name_records.head()"
   ],
   "metadata": {
    "collapsed": false,
    "pycharm": {
     "name": "#%%\n"
    }
   }
  },
  {
   "cell_type": "code",
   "execution_count": 14,
   "outputs": [],
   "source": [
    "name_records.to_csv(\"../data/name_records.csv\", index=False)"
   ],
   "metadata": {
    "collapsed": false,
    "pycharm": {
     "name": "#%%\n"
    }
   }
  },
  {
   "cell_type": "code",
   "execution_count": 15,
   "outputs": [],
   "source": [
    "def select_top_10(group):\n",
    "    group = group.sort_values(by=[\"Number\"], ascending=False).reset_index(drop=True)[:10]\n",
    "    group[\"Rank\"] = [i for i in range(1, 11)]\n",
    "    return group\n",
    "name_rankings = name_records.groupby([\"Decade\", \"Name\"])[\"Number\"].mean().reset_index().groupby(\"Decade\").apply(select_top_10).reset_index(drop=True)"
   ],
   "metadata": {
    "collapsed": false,
    "pycharm": {
     "name": "#%%\n"
    }
   }
  },
  {
   "cell_type": "code",
   "execution_count": 16,
   "outputs": [],
   "source": [
    "name_rankings.to_csv(\"../data/name_rankings.csv\", index=False)"
   ],
   "metadata": {
    "collapsed": false,
    "pycharm": {
     "name": "#%%\n"
    }
   }
  },
  {
   "cell_type": "code",
   "execution_count": 17,
   "outputs": [],
   "source": [
    "decades = name_rankings[\"Decade\"].unique()\n",
    "def add_missing_ranks(group):\n",
    "    for decade in decades:\n",
    "        if group[group[\"Decade\"] == decade].size == 0:\n",
    "            last_row = group.iloc[-1].copy()\n",
    "            last_row[\"Decade\"] = decade\n",
    "            last_row[\"Rank\"] = 12\n",
    "            last_row[\"Number\"] = 0\n",
    "            group = group.append(last_row)\n",
    "    return group\n",
    "\n",
    "name_rankings_with_11 = name_rankings.groupby(\"Name\").apply(add_missing_ranks).reset_index(drop=True).sort_values(by=[\"Decade\"]).reset_index(drop=True)"
   ],
   "metadata": {
    "collapsed": false,
    "pycharm": {
     "name": "#%%\n"
    }
   }
  },
  {
   "cell_type": "code",
   "execution_count": 18,
   "outputs": [],
   "source": [
    "name_rankings_with_11.to_csv(\"../data/name_rankings_with_11.csv\", index=False)"
   ],
   "metadata": {
    "collapsed": false,
    "pycharm": {
     "name": "#%%\n"
    }
   }
  }
 ],
 "metadata": {
  "kernelspec": {
   "display_name": "Python 3",
   "language": "python",
   "name": "python3"
  },
  "language_info": {
   "codemirror_mode": {
    "name": "ipython",
    "version": 2
   },
   "file_extension": ".py",
   "mimetype": "text/x-python",
   "name": "python",
   "nbconvert_exporter": "python",
   "pygments_lexer": "ipython2",
   "version": "2.7.6"
  }
 },
 "nbformat": 4,
 "nbformat_minor": 0
}